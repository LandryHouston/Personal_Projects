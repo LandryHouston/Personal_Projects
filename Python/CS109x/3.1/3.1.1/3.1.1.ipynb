{
 "cells": [
  {
   "cell_type": "code",
   "execution_count": 1,
   "metadata": {},
   "outputs": [
    {
     "ename": "ModuleNotFoundError",
     "evalue": "No module named 'prettytable'",
     "output_type": "error",
     "traceback": [
      "\u001b[1;31m---------------------------------------------------------------------------\u001b[0m",
      "\u001b[1;31mModuleNotFoundError\u001b[0m                       Traceback (most recent call last)",
      "\u001b[1;32m~\\AppData\\Local\\Temp\\ipykernel_5536\\423925494.py\u001b[0m in \u001b[0;36m<module>\u001b[1;34m\u001b[0m\n\u001b[0;32m      5\u001b[0m \u001b[1;32mimport\u001b[0m \u001b[0mpandas\u001b[0m \u001b[1;32mas\u001b[0m \u001b[0mpd\u001b[0m\u001b[1;33m\u001b[0m\u001b[1;33m\u001b[0m\u001b[0m\n\u001b[0;32m      6\u001b[0m \u001b[1;32mimport\u001b[0m \u001b[0mmatplotlib\u001b[0m\u001b[1;33m.\u001b[0m\u001b[0mpyplot\u001b[0m \u001b[1;32mas\u001b[0m \u001b[0mplt\u001b[0m\u001b[1;33m\u001b[0m\u001b[1;33m\u001b[0m\u001b[0m\n\u001b[1;32m----> 7\u001b[1;33m \u001b[1;32mfrom\u001b[0m \u001b[0mprettytable\u001b[0m \u001b[1;32mimport\u001b[0m \u001b[0mPrettyTable\u001b[0m\u001b[1;33m\u001b[0m\u001b[1;33m\u001b[0m\u001b[0m\n\u001b[0m\u001b[0;32m      8\u001b[0m \u001b[1;32mfrom\u001b[0m \u001b[0msklearn\u001b[0m\u001b[1;33m.\u001b[0m\u001b[0mmetrics\u001b[0m \u001b[1;32mimport\u001b[0m \u001b[0mmean_squared_error\u001b[0m\u001b[1;33m\u001b[0m\u001b[1;33m\u001b[0m\u001b[0m\n\u001b[0;32m      9\u001b[0m \u001b[1;32mfrom\u001b[0m \u001b[0msklearn\u001b[0m\u001b[1;33m.\u001b[0m\u001b[0mneighbors\u001b[0m \u001b[1;32mimport\u001b[0m \u001b[0mKNeighborsRegressor\u001b[0m\u001b[1;33m\u001b[0m\u001b[1;33m\u001b[0m\u001b[0m\n",
      "\u001b[1;31mModuleNotFoundError\u001b[0m: No module named 'prettytable'"
     ]
    }
   ],
   "source": [
    "# Import necessary libraries\n",
    "import operator\n",
    "%matplotlib inline\n",
    "import numpy as np\n",
    "import pandas as pd\n",
    "import matplotlib.pyplot as plt\n",
    "from prettytable import PrettyTable\n",
    "from sklearn.metrics import mean_squared_error\n",
    "from sklearn.neighbors import KNeighborsRegressor\n",
    "from sklearn.linear_model import LinearRegression\n",
    "from sklearn.model_selection import train_test_split\n",
    "from sklearn.preprocessing import PolynomialFeatures\n"
   ]
  },
  {
   "cell_type": "code",
   "execution_count": null,
   "metadata": {},
   "outputs": [],
   "source": [
    "# Load the data from the csv file\n",
    "df = pd.read_csv(\"dataset.csv\")\n",
    "\n",
    "# Take a quick look at the data\n",
    "df.head()\n"
   ]
  },
  {
   "cell_type": "code",
   "execution_count": null,
   "metadata": {},
   "outputs": [],
   "source": [
    "# Use the values of column x as the predictor variable\n",
    "x = df[['x']].values\n",
    "\n",
    "# Use the values of column y as the response variable\n",
    "y = df[['y']].values\n"
   ]
  },
  {
   "cell_type": "code",
   "execution_count": null,
   "metadata": {},
   "outputs": [],
   "source": [
    "### edTest(test_split) ###\n",
    "\n",
    "# Split the data into train and test splits\n",
    "# Set aside 25% for testing with a random state of 1\n",
    "x_train, x_test, y_train, y_test = train_test_split(x, y, train_size=0.75, random_state=1)"
   ]
  },
  {
   "cell_type": "code",
   "execution_count": null,
   "metadata": {},
   "outputs": [],
   "source": [
    "# Create an empty list to store test MSEs\n",
    "test_error = []\n"
   ]
  },
  {
   "cell_type": "code",
   "execution_count": null,
   "metadata": {},
   "outputs": [],
   "source": [
    "### edTest(test_linear_mse) ###\n",
    "\n",
    "# Initialize a simple Linear Regression model\n",
    "model = LinearRegression()\n",
    "\n",
    "# Fit the model on the train data\n",
    "model.fit(x_train, y_train)\n",
    "\n",
    "# Predict using the trained model on the test data\n",
    "y_pred = model.predict(x_test)\n",
    "\n",
    "# Compute the MSE of the test predictions\n",
    "mse = mean_squared_error(y_test, y_pred)\n",
    "\n",
    "# Append the error to the list initialized above\n",
    "test_error.append(mse)\n"
   ]
  },
  {
   "cell_type": "code",
   "execution_count": null,
   "metadata": {},
   "outputs": [],
   "source": [
    "### edTest(test_poly_mse) ###\n",
    "\n",
    "# Initialize a list of degree values to create polynomial features\n",
    "degree_list = [2,5]\n",
    "\n",
    "# Run a for loop through the degrees of the polynomial\n",
    "for d in degree_list:\n",
    "    \n",
    "    # Compute the polynomial features for the train data, for the current degree\n",
    "    X_train = PolynomialFeatures(degree=d).fit_transform(x_train)\n",
    "    \n",
    "    # Compute the polynomial features for the test data, for the current degree\n",
    "    X_test = PolynomialFeatures(degree=d).fit_transform(x_test)\n",
    "    \n",
    "    # Initialize a linear regression model\n",
    "    lreg = LinearRegression()\n",
    "    \n",
    "    # Fit the linear model on the transformed train data\n",
    "    lreg.fit(X_train, y_train)\n",
    "    \n",
    "    # Predict using the trained model on the test data\n",
    "    y_pred = lreg.predict(X_test)\n",
    "    \n",
    "    # Compute the MSE of the test predictions\n",
    "    mse = mean_squared_error(y_test, y_pred)\n",
    "\n",
    "    # Append the error to the list initialized above\n",
    "    test_error.append(mse)\n"
   ]
  },
  {
   "cell_type": "code",
   "execution_count": null,
   "metadata": {},
   "outputs": [],
   "source": [
    "### edTest(test_knn_mse) ###\n",
    "\n",
    "# Initialize a list of k values to specify the number of neighbors\n",
    "knn_list = [1,20]\n",
    "\n",
    "# Loop through the k values from the list defined above\n",
    "for i in knn_list:\n",
    "    \n",
    "    # Initialize a kNN model with the current k value\n",
    "    model = KNeighborsRegressor(n_neighbors=int(i))\n",
    "    \n",
    "    # Fit the model on the train data\n",
    "    model.fit(x_train, y_train)\n",
    "    \n",
    "    # Predict using the trained model on the test data\n",
    "    y_pred = model.predict(x_test)\n",
    "    \n",
    "    # Compute the MSE of the test predictions\n",
    "    mse = mean_squared_error(y_test, y_pred)\n",
    "\n",
    "    # Append the error to the list initialized above\n",
    "    test_error.append(mse)\n",
    "    "
   ]
  },
  {
   "cell_type": "code",
   "execution_count": null,
   "metadata": {},
   "outputs": [],
   "source": [
    "# Helper code to visualize the MSE of the 5 models \n",
    "pt = PrettyTable()\n",
    "pt.field_names = [\"Model\",\"MSE\"]\n",
    "pt.add_row([\"Linear Regression\", round(test_error[0],2)])\n",
    "pt.add_row([\"Polynomial Model with Degree 2\", round(test_error[1],2)])\n",
    "pt.add_row([\"Polynomial Model with Degree 5\", round(test_error[2],2)])\n",
    "pt.add_row([\"KNN Model with k=1\", round(test_error[3],2)])\n",
    "pt.add_row([\"KNN Model with k=20\", round(test_error[4],2)])\n",
    "print(pt)\n"
   ]
  }
 ],
 "metadata": {
  "kernelspec": {
   "display_name": "base",
   "language": "python",
   "name": "python3"
  },
  "language_info": {
   "codemirror_mode": {
    "name": "ipython",
    "version": 3
   },
   "file_extension": ".py",
   "mimetype": "text/x-python",
   "name": "python",
   "nbconvert_exporter": "python",
   "pygments_lexer": "ipython3",
   "version": "3.9.13"
  },
  "orig_nbformat": 4
 },
 "nbformat": 4,
 "nbformat_minor": 2
}
